{
 "cells": [
  {
   "cell_type": "code",
   "execution_count": 16,
   "id": "dd0d204f",
   "metadata": {},
   "outputs": [],
   "source": [
    "import pandas as pd\n",
    "import os"
   ]
  },
  {
   "cell_type": "markdown",
   "id": "7553f152",
   "metadata": {},
   "source": [
    "# Importing dataset"
   ]
  },
  {
   "cell_type": "code",
   "execution_count": 17,
   "id": "8c71e159",
   "metadata": {},
   "outputs": [],
   "source": [
    "df = pd.read_csv(\"/home/rajan/Datathon/Datathon Final dataset/Total Male and female voters per districts.csv\")"
   ]
  },
  {
   "cell_type": "code",
   "execution_count": 18,
   "id": "7a35c407",
   "metadata": {},
   "outputs": [
    {
     "data": {
      "text/html": [
       "<div>\n",
       "<style scoped>\n",
       "    .dataframe tbody tr th:only-of-type {\n",
       "        vertical-align: middle;\n",
       "    }\n",
       "\n",
       "    .dataframe tbody tr th {\n",
       "        vertical-align: top;\n",
       "    }\n",
       "\n",
       "    .dataframe thead th {\n",
       "        text-align: right;\n",
       "    }\n",
       "</style>\n",
       "<table border=\"1\" class=\"dataframe\">\n",
       "  <thead>\n",
       "    <tr style=\"text-align: right;\">\n",
       "      <th></th>\n",
       "      <th>District</th>\n",
       "      <th>Male</th>\n",
       "      <th>Female</th>\n",
       "      <th>Third Gender</th>\n",
       "      <th>Total</th>\n",
       "    </tr>\n",
       "  </thead>\n",
       "  <tbody>\n",
       "    <tr>\n",
       "      <th>0</th>\n",
       "      <td>Achham</td>\n",
       "      <td>60441</td>\n",
       "      <td>67299</td>\n",
       "      <td>2</td>\n",
       "      <td>127742</td>\n",
       "    </tr>\n",
       "    <tr>\n",
       "      <th>1</th>\n",
       "      <td>Arghakhanchi</td>\n",
       "      <td>60296</td>\n",
       "      <td>66403</td>\n",
       "      <td>0</td>\n",
       "      <td>126699</td>\n",
       "    </tr>\n",
       "    <tr>\n",
       "      <th>2</th>\n",
       "      <td>Baglung</td>\n",
       "      <td>73963</td>\n",
       "      <td>82839</td>\n",
       "      <td>0</td>\n",
       "      <td>156802</td>\n",
       "    </tr>\n",
       "    <tr>\n",
       "      <th>3</th>\n",
       "      <td>Baitadi</td>\n",
       "      <td>60227</td>\n",
       "      <td>64596</td>\n",
       "      <td>1</td>\n",
       "      <td>124824</td>\n",
       "    </tr>\n",
       "    <tr>\n",
       "      <th>4</th>\n",
       "      <td>Bajhang</td>\n",
       "      <td>47888</td>\n",
       "      <td>49721</td>\n",
       "      <td>1</td>\n",
       "      <td>97610</td>\n",
       "    </tr>\n",
       "  </tbody>\n",
       "</table>\n",
       "</div>"
      ],
      "text/plain": [
       "       District   Male  Female  Third Gender   Total\n",
       "0        Achham  60441   67299             2  127742\n",
       "1  Arghakhanchi  60296   66403             0  126699\n",
       "2       Baglung  73963   82839             0  156802\n",
       "3       Baitadi  60227   64596             1  124824\n",
       "4       Bajhang  47888   49721             1   97610"
      ]
     },
     "execution_count": 18,
     "metadata": {},
     "output_type": "execute_result"
    }
   ],
   "source": [
    "df.head()"
   ]
  },
  {
   "cell_type": "code",
   "execution_count": 19,
   "id": "42884de5",
   "metadata": {},
   "outputs": [
    {
     "data": {
      "text/plain": [
       "(80, 5)"
      ]
     },
     "execution_count": 19,
     "metadata": {},
     "output_type": "execute_result"
    }
   ],
   "source": [
    "df.shape"
   ]
  },
  {
   "cell_type": "code",
   "execution_count": 20,
   "id": "b06b9ec9",
   "metadata": {},
   "outputs": [
    {
     "data": {
      "text/plain": [
       "District        0\n",
       "Male            0\n",
       "Female          0\n",
       "Third Gender    0\n",
       "Total           0\n",
       "dtype: int64"
      ]
     },
     "execution_count": 20,
     "metadata": {},
     "output_type": "execute_result"
    }
   ],
   "source": [
    "df.isnull().sum()"
   ]
  },
  {
   "cell_type": "code",
   "execution_count": 21,
   "id": "9d6ec9bc",
   "metadata": {},
   "outputs": [
    {
     "name": "stdout",
     "output_type": "stream",
     "text": [
      "Achham\n",
      "Arghakhanchi\n",
      "Baglung\n",
      "Baitadi\n",
      "Bajhang\n",
      "Bajura\n",
      "Banke\n",
      "Bara\n",
      "Bardiya\n",
      "Bhaktapur\n",
      "Bhojpur\n",
      "Chitwan\n",
      "Dadeldhura\n",
      "Dailekh\n",
      "Dang\n",
      "Tanahu\n",
      "Darchula\n",
      "Dhading\n",
      "Dhankuta\n",
      "Dhanusa\n",
      "Dolakha\n",
      "Dolpa\n",
      "Doti\n",
      "Gorkha\n",
      "Gulmi\n",
      "Humla\n",
      "Ilam\n",
      "Jajarkot\n",
      "Jajarkot\n",
      "Jajarkot\n",
      "Jhapa\n",
      "Jumla\n",
      "Kailali\n",
      "Kalikot\n",
      "Kanchanpur\n",
      "Kapilbastu\n",
      "Kaski\n",
      "Kathmandu\n",
      "Kavrepalanchok\n",
      "Khotang\n",
      "Lalitpur\n",
      "Lamjung\n",
      "Mahottari\n",
      "Makwanpur\n",
      "Manang\n",
      "Morang\n",
      "Mugu\n",
      "Mustang\n",
      "Myagdi\n",
      "Nawalparasi (East)\n",
      "Nawalparasi (East)\n",
      "Nuwakot\n",
      "Okhaldhunga\n",
      "Palpa\n",
      "Panchthar\n",
      "Parbat\n",
      "Parsa\n",
      "Pyuthan\n",
      "Ramechhap\n",
      "Rasuwa\n",
      "Rautahat\n",
      "Rolpa\n",
      "Rukum\n",
      "Rupandehi\n",
      "Salyan\n",
      "Sankhuwasabha\n",
      "Saptari\n",
      "Sarlahi\n",
      "Sindhuli\n",
      "Sindhupalchok\n",
      "Siraha\n",
      "Solukhumbu\n",
      "Sunsari\n",
      "Surkhet\n",
      "Syangja\n",
      "Tanahu\n",
      "Taplejung\n",
      "Terhathum\n",
      "Udayapur\n",
      "Total\n"
     ]
    }
   ],
   "source": [
    "for i in df['District']:\n",
    "    print(i)"
   ]
  },
  {
   "cell_type": "code",
   "execution_count": 27,
   "id": "053e4551",
   "metadata": {},
   "outputs": [],
   "source": [
    "df.drop(index = 79, inplace = True)"
   ]
  },
  {
   "cell_type": "code",
   "execution_count": 28,
   "id": "c968cdac",
   "metadata": {},
   "outputs": [
    {
     "data": {
      "text/plain": [
       "3"
      ]
     },
     "execution_count": 28,
     "metadata": {},
     "output_type": "execute_result"
    }
   ],
   "source": [
    "df.duplicated().sum()"
   ]
  },
  {
   "cell_type": "code",
   "execution_count": 35,
   "id": "f0cb277b",
   "metadata": {},
   "outputs": [],
   "source": [
    "df.drop_duplicates(inplace =True)"
   ]
  },
  {
   "cell_type": "code",
   "execution_count": 36,
   "id": "3b32f526",
   "metadata": {},
   "outputs": [
    {
     "data": {
      "text/html": [
       "<div>\n",
       "<style scoped>\n",
       "    .dataframe tbody tr th:only-of-type {\n",
       "        vertical-align: middle;\n",
       "    }\n",
       "\n",
       "    .dataframe tbody tr th {\n",
       "        vertical-align: top;\n",
       "    }\n",
       "\n",
       "    .dataframe thead th {\n",
       "        text-align: right;\n",
       "    }\n",
       "</style>\n",
       "<table border=\"1\" class=\"dataframe\">\n",
       "  <thead>\n",
       "    <tr style=\"text-align: right;\">\n",
       "      <th></th>\n",
       "      <th>District</th>\n",
       "      <th>Male</th>\n",
       "      <th>Female</th>\n",
       "      <th>Third Gender</th>\n",
       "      <th>Total</th>\n",
       "    </tr>\n",
       "  </thead>\n",
       "  <tbody>\n",
       "    <tr>\n",
       "      <th>0</th>\n",
       "      <td>Achham</td>\n",
       "      <td>60441</td>\n",
       "      <td>67299</td>\n",
       "      <td>2</td>\n",
       "      <td>127742</td>\n",
       "    </tr>\n",
       "    <tr>\n",
       "      <th>1</th>\n",
       "      <td>Arghakhanchi</td>\n",
       "      <td>60296</td>\n",
       "      <td>66403</td>\n",
       "      <td>0</td>\n",
       "      <td>126699</td>\n",
       "    </tr>\n",
       "    <tr>\n",
       "      <th>2</th>\n",
       "      <td>Baglung</td>\n",
       "      <td>73963</td>\n",
       "      <td>82839</td>\n",
       "      <td>0</td>\n",
       "      <td>156802</td>\n",
       "    </tr>\n",
       "    <tr>\n",
       "      <th>3</th>\n",
       "      <td>Baitadi</td>\n",
       "      <td>60227</td>\n",
       "      <td>64596</td>\n",
       "      <td>1</td>\n",
       "      <td>124824</td>\n",
       "    </tr>\n",
       "    <tr>\n",
       "      <th>4</th>\n",
       "      <td>Bajhang</td>\n",
       "      <td>47888</td>\n",
       "      <td>49721</td>\n",
       "      <td>1</td>\n",
       "      <td>97610</td>\n",
       "    </tr>\n",
       "  </tbody>\n",
       "</table>\n",
       "</div>"
      ],
      "text/plain": [
       "       District   Male  Female  Third Gender   Total\n",
       "0        Achham  60441   67299             2  127742\n",
       "1  Arghakhanchi  60296   66403             0  126699\n",
       "2       Baglung  73963   82839             0  156802\n",
       "3       Baitadi  60227   64596             1  124824\n",
       "4       Bajhang  47888   49721             1   97610"
      ]
     },
     "execution_count": 36,
     "metadata": {},
     "output_type": "execute_result"
    }
   ],
   "source": [
    "df.head()"
   ]
  },
  {
   "cell_type": "code",
   "execution_count": 37,
   "id": "5a2ea076",
   "metadata": {
    "scrolled": true
   },
   "outputs": [
    {
     "data": {
      "text/html": [
       "<div>\n",
       "<style scoped>\n",
       "    .dataframe tbody tr th:only-of-type {\n",
       "        vertical-align: middle;\n",
       "    }\n",
       "\n",
       "    .dataframe tbody tr th {\n",
       "        vertical-align: top;\n",
       "    }\n",
       "\n",
       "    .dataframe thead th {\n",
       "        text-align: right;\n",
       "    }\n",
       "</style>\n",
       "<table border=\"1\" class=\"dataframe\">\n",
       "  <thead>\n",
       "    <tr style=\"text-align: right;\">\n",
       "      <th></th>\n",
       "      <th>District</th>\n",
       "      <th>Male</th>\n",
       "      <th>Female</th>\n",
       "      <th>Third Gender</th>\n",
       "      <th>Total</th>\n",
       "    </tr>\n",
       "  </thead>\n",
       "  <tbody>\n",
       "    <tr>\n",
       "      <th>15</th>\n",
       "      <td>Tanahu</td>\n",
       "      <td>90144</td>\n",
       "      <td>3104327</td>\n",
       "      <td>0</td>\n",
       "      <td>194471</td>\n",
       "    </tr>\n",
       "  </tbody>\n",
       "</table>\n",
       "</div>"
      ],
      "text/plain": [
       "   District   Male   Female  Third Gender   Total\n",
       "15   Tanahu  90144  3104327             0  194471"
      ]
     },
     "execution_count": 37,
     "metadata": {},
     "output_type": "execute_result"
    }
   ],
   "source": [
    "df[df['Female']==max(df['Female'])]"
   ]
  },
  {
   "cell_type": "code",
   "execution_count": 38,
   "id": "11d80bdd",
   "metadata": {},
   "outputs": [
    {
     "data": {
      "text/html": [
       "<div>\n",
       "<style scoped>\n",
       "    .dataframe tbody tr th:only-of-type {\n",
       "        vertical-align: middle;\n",
       "    }\n",
       "\n",
       "    .dataframe tbody tr th {\n",
       "        vertical-align: top;\n",
       "    }\n",
       "\n",
       "    .dataframe thead th {\n",
       "        text-align: right;\n",
       "    }\n",
       "</style>\n",
       "<table border=\"1\" class=\"dataframe\">\n",
       "  <thead>\n",
       "    <tr style=\"text-align: right;\">\n",
       "      <th></th>\n",
       "      <th>District</th>\n",
       "      <th>Male</th>\n",
       "      <th>Female</th>\n",
       "      <th>Third Gender</th>\n",
       "      <th>Total</th>\n",
       "    </tr>\n",
       "  </thead>\n",
       "  <tbody>\n",
       "    <tr>\n",
       "      <th>49</th>\n",
       "      <td>Nawalparasi (East)</td>\n",
       "      <td>682596</td>\n",
       "      <td>68584</td>\n",
       "      <td>1</td>\n",
       "      <td>131181</td>\n",
       "    </tr>\n",
       "  </tbody>\n",
       "</table>\n",
       "</div>"
      ],
      "text/plain": [
       "              District    Male  Female  Third Gender    Total\n",
       "49  Nawalparasi (East)  682596   68584             1   131181"
      ]
     },
     "execution_count": 38,
     "metadata": {},
     "output_type": "execute_result"
    }
   ],
   "source": [
    "df[df['Male']==max(df['Male'])]"
   ]
  },
  {
   "cell_type": "code",
   "execution_count": 39,
   "id": "89044954",
   "metadata": {},
   "outputs": [
    {
     "data": {
      "text/html": [
       "<div>\n",
       "<style scoped>\n",
       "    .dataframe tbody tr th:only-of-type {\n",
       "        vertical-align: middle;\n",
       "    }\n",
       "\n",
       "    .dataframe tbody tr th {\n",
       "        vertical-align: top;\n",
       "    }\n",
       "\n",
       "    .dataframe thead th {\n",
       "        text-align: right;\n",
       "    }\n",
       "</style>\n",
       "<table border=\"1\" class=\"dataframe\">\n",
       "  <thead>\n",
       "    <tr style=\"text-align: right;\">\n",
       "      <th></th>\n",
       "      <th>District</th>\n",
       "      <th>Male</th>\n",
       "      <th>Female</th>\n",
       "      <th>Third Gender</th>\n",
       "      <th>Total</th>\n",
       "    </tr>\n",
       "  </thead>\n",
       "  <tbody>\n",
       "    <tr>\n",
       "      <th>27</th>\n",
       "      <td>Jajarkot</td>\n",
       "      <td>42410</td>\n",
       "      <td>36536</td>\n",
       "      <td>1</td>\n",
       "      <td>????</td>\n",
       "    </tr>\n",
       "  </tbody>\n",
       "</table>\n",
       "</div>"
      ],
      "text/plain": [
       "    District   Male  Female  Third Gender Total\n",
       "27  Jajarkot  42410   36536             1  ????"
      ]
     },
     "execution_count": 39,
     "metadata": {},
     "output_type": "execute_result"
    }
   ],
   "source": [
    "df[df['Total']==max(df['Total'])]"
   ]
  }
 ],
 "metadata": {
  "kernelspec": {
   "display_name": "Python 3",
   "language": "python",
   "name": "python3"
  },
  "language_info": {
   "codemirror_mode": {
    "name": "ipython",
    "version": 3
   },
   "file_extension": ".py",
   "mimetype": "text/x-python",
   "name": "python",
   "nbconvert_exporter": "python",
   "pygments_lexer": "ipython3",
   "version": "3.9.12"
  }
 },
 "nbformat": 4,
 "nbformat_minor": 5
}
