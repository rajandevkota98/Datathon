{
 "cells": [
  {
   "cell_type": "code",
   "execution_count": 3,
   "id": "dd0d204f",
   "metadata": {},
   "outputs": [],
   "source": [
    "import pandas as pd\n",
    "import os"
   ]
  },
  {
   "cell_type": "markdown",
   "id": "7553f152",
   "metadata": {},
   "source": [
    "# Importing dataset"
   ]
  },
  {
   "cell_type": "code",
   "execution_count": 4,
   "id": "8c71e159",
   "metadata": {},
   "outputs": [],
   "source": [
    "df = pd.read_csv(\"/home/rajan/Datathon/Datathon Final dataset/Total Male and female voters per districts.csv\")"
   ]
  },
  {
   "cell_type": "code",
   "execution_count": 5,
   "id": "7a35c407",
   "metadata": {},
   "outputs": [
    {
     "data": {
      "text/html": [
       "<div>\n",
       "<style scoped>\n",
       "    .dataframe tbody tr th:only-of-type {\n",
       "        vertical-align: middle;\n",
       "    }\n",
       "\n",
       "    .dataframe tbody tr th {\n",
       "        vertical-align: top;\n",
       "    }\n",
       "\n",
       "    .dataframe thead th {\n",
       "        text-align: right;\n",
       "    }\n",
       "</style>\n",
       "<table border=\"1\" class=\"dataframe\">\n",
       "  <thead>\n",
       "    <tr style=\"text-align: right;\">\n",
       "      <th></th>\n",
       "      <th>District</th>\n",
       "      <th>Male</th>\n",
       "      <th>Female</th>\n",
       "      <th>Third Gender</th>\n",
       "      <th>Total</th>\n",
       "    </tr>\n",
       "  </thead>\n",
       "  <tbody>\n",
       "    <tr>\n",
       "      <th>0</th>\n",
       "      <td>Achham</td>\n",
       "      <td>60441</td>\n",
       "      <td>67299</td>\n",
       "      <td>2</td>\n",
       "      <td>127742</td>\n",
       "    </tr>\n",
       "    <tr>\n",
       "      <th>1</th>\n",
       "      <td>Arghakhanchi</td>\n",
       "      <td>60296</td>\n",
       "      <td>66403</td>\n",
       "      <td>0</td>\n",
       "      <td>126699</td>\n",
       "    </tr>\n",
       "    <tr>\n",
       "      <th>2</th>\n",
       "      <td>Baglung</td>\n",
       "      <td>73963</td>\n",
       "      <td>82839</td>\n",
       "      <td>0</td>\n",
       "      <td>156802</td>\n",
       "    </tr>\n",
       "    <tr>\n",
       "      <th>3</th>\n",
       "      <td>Baitadi</td>\n",
       "      <td>60227</td>\n",
       "      <td>64596</td>\n",
       "      <td>1</td>\n",
       "      <td>124824</td>\n",
       "    </tr>\n",
       "    <tr>\n",
       "      <th>4</th>\n",
       "      <td>Bajhang</td>\n",
       "      <td>47888</td>\n",
       "      <td>49721</td>\n",
       "      <td>1</td>\n",
       "      <td>97610</td>\n",
       "    </tr>\n",
       "  </tbody>\n",
       "</table>\n",
       "</div>"
      ],
      "text/plain": [
       "       District   Male  Female  Third Gender   Total\n",
       "0        Achham  60441   67299             2  127742\n",
       "1  Arghakhanchi  60296   66403             0  126699\n",
       "2       Baglung  73963   82839             0  156802\n",
       "3       Baitadi  60227   64596             1  124824\n",
       "4       Bajhang  47888   49721             1   97610"
      ]
     },
     "execution_count": 5,
     "metadata": {},
     "output_type": "execute_result"
    }
   ],
   "source": [
    "df.head()"
   ]
  },
  {
   "cell_type": "code",
   "execution_count": 25,
   "id": "42884de5",
   "metadata": {},
   "outputs": [
    {
     "data": {
      "text/plain": [
       "(80, 5)"
      ]
     },
     "execution_count": 25,
     "metadata": {},
     "output_type": "execute_result"
    }
   ],
   "source": [
    "df.shape"
   ]
  },
  {
   "cell_type": "code",
   "execution_count": 26,
   "id": "b06b9ec9",
   "metadata": {},
   "outputs": [
    {
     "data": {
      "text/plain": [
       "District        0\n",
       "Male            0\n",
       "Female          0\n",
       "Third Gender    0\n",
       "Total           0\n",
       "dtype: int64"
      ]
     },
     "execution_count": 26,
     "metadata": {},
     "output_type": "execute_result"
    }
   ],
   "source": [
    "df.isnull().sum()"
   ]
  },
  {
   "cell_type": "code",
   "execution_count": 27,
   "id": "9d6ec9bc",
   "metadata": {},
   "outputs": [
    {
     "name": "stdout",
     "output_type": "stream",
     "text": [
      "Achham\n",
      "Arghakhanchi\n",
      "Baglung\n",
      "Baitadi\n",
      "Bajhang\n",
      "Bajura\n",
      "Banke\n",
      "Bara\n",
      "Bardiya\n",
      "Bhaktapur\n",
      "Bhojpur\n",
      "Chitwan\n",
      "Dadeldhura\n",
      "Dailekh\n",
      "Dang\n",
      "Tanahu\n",
      "Darchula\n",
      "Dhading\n",
      "Dhankuta\n",
      "Dhanusa\n",
      "Dolakha\n",
      "Dolpa\n",
      "Doti\n",
      "Gorkha\n",
      "Gulmi\n",
      "Humla\n",
      "Ilam\n",
      "Jajarkot\n",
      "Jajarkot\n",
      "Jajarkot\n",
      "Jhapa\n",
      "Jumla\n",
      "Kailali\n",
      "Kalikot\n",
      "Kanchanpur\n",
      "Kapilbastu\n",
      "Kaski\n",
      "Kathmandu\n",
      "Kavrepalanchok\n",
      "Khotang\n",
      "Lalitpur\n",
      "Lamjung\n",
      "Mahottari\n",
      "Makwanpur\n",
      "Manang\n",
      "Morang\n",
      "Mugu\n",
      "Mustang\n",
      "Myagdi\n",
      "Nawalparasi (East)\n",
      "Nawalparasi (East)\n",
      "Nuwakot\n",
      "Okhaldhunga\n",
      "Palpa\n",
      "Panchthar\n",
      "Parbat\n",
      "Parsa\n",
      "Pyuthan\n",
      "Ramechhap\n",
      "Rasuwa\n",
      "Rautahat\n",
      "Rolpa\n",
      "Rukum\n",
      "Rupandehi\n",
      "Salyan\n",
      "Sankhuwasabha\n",
      "Saptari\n",
      "Sarlahi\n",
      "Sindhuli\n",
      "Sindhupalchok\n",
      "Siraha\n",
      "Solukhumbu\n",
      "Sunsari\n",
      "Surkhet\n",
      "Syangja\n",
      "Tanahu\n",
      "Taplejung\n",
      "Terhathum\n",
      "Udayapur\n",
      "Total\n"
     ]
    }
   ],
   "source": [
    "for i in df['District']:\n",
    "    print(i)"
   ]
  },
  {
   "cell_type": "code",
   "execution_count": 31,
   "id": "c968cdac",
   "metadata": {},
   "outputs": [
    {
     "data": {
      "text/plain": [
       "3"
      ]
     },
     "execution_count": 31,
     "metadata": {},
     "output_type": "execute_result"
    }
   ],
   "source": [
    "df.duplicated().sum()"
   ]
  },
  {
   "cell_type": "code",
   "execution_count": 32,
   "id": "1ce62497",
   "metadata": {},
   "outputs": [
    {
     "data": {
      "text/html": [
       "<div>\n",
       "<style scoped>\n",
       "    .dataframe tbody tr th:only-of-type {\n",
       "        vertical-align: middle;\n",
       "    }\n",
       "\n",
       "    .dataframe tbody tr th {\n",
       "        vertical-align: top;\n",
       "    }\n",
       "\n",
       "    .dataframe thead th {\n",
       "        text-align: right;\n",
       "    }\n",
       "</style>\n",
       "<table border=\"1\" class=\"dataframe\">\n",
       "  <thead>\n",
       "    <tr style=\"text-align: right;\">\n",
       "      <th></th>\n",
       "      <th>District</th>\n",
       "      <th>Male</th>\n",
       "      <th>Female</th>\n",
       "      <th>Third Gender</th>\n",
       "      <th>Total</th>\n",
       "    </tr>\n",
       "  </thead>\n",
       "  <tbody>\n",
       "    <tr>\n",
       "      <th>0</th>\n",
       "      <td>Achham</td>\n",
       "      <td>60441</td>\n",
       "      <td>67299</td>\n",
       "      <td>2</td>\n",
       "      <td>127742</td>\n",
       "    </tr>\n",
       "    <tr>\n",
       "      <th>1</th>\n",
       "      <td>Arghakhanchi</td>\n",
       "      <td>60296</td>\n",
       "      <td>66403</td>\n",
       "      <td>0</td>\n",
       "      <td>126699</td>\n",
       "    </tr>\n",
       "    <tr>\n",
       "      <th>2</th>\n",
       "      <td>Baglung</td>\n",
       "      <td>73963</td>\n",
       "      <td>82839</td>\n",
       "      <td>0</td>\n",
       "      <td>156802</td>\n",
       "    </tr>\n",
       "    <tr>\n",
       "      <th>3</th>\n",
       "      <td>Baitadi</td>\n",
       "      <td>60227</td>\n",
       "      <td>64596</td>\n",
       "      <td>1</td>\n",
       "      <td>124824</td>\n",
       "    </tr>\n",
       "    <tr>\n",
       "      <th>4</th>\n",
       "      <td>Bajhang</td>\n",
       "      <td>47888</td>\n",
       "      <td>49721</td>\n",
       "      <td>1</td>\n",
       "      <td>97610</td>\n",
       "    </tr>\n",
       "    <tr>\n",
       "      <th>...</th>\n",
       "      <td>...</td>\n",
       "      <td>...</td>\n",
       "      <td>...</td>\n",
       "      <td>...</td>\n",
       "      <td>...</td>\n",
       "    </tr>\n",
       "    <tr>\n",
       "      <th>74</th>\n",
       "      <td>Syangja</td>\n",
       "      <td>89544</td>\n",
       "      <td>101708</td>\n",
       "      <td>1</td>\n",
       "      <td>191253</td>\n",
       "    </tr>\n",
       "    <tr>\n",
       "      <th>76</th>\n",
       "      <td>Taplejung</td>\n",
       "      <td>37187</td>\n",
       "      <td>33591</td>\n",
       "      <td>0</td>\n",
       "      <td>70778</td>\n",
       "    </tr>\n",
       "    <tr>\n",
       "      <th>77</th>\n",
       "      <td>Terhathum</td>\n",
       "      <td>30334</td>\n",
       "      <td>30370</td>\n",
       "      <td>0</td>\n",
       "      <td>60704</td>\n",
       "    </tr>\n",
       "    <tr>\n",
       "      <th>78</th>\n",
       "      <td>Udayapur</td>\n",
       "      <td>88510</td>\n",
       "      <td>86951</td>\n",
       "      <td>0</td>\n",
       "      <td>175461</td>\n",
       "    </tr>\n",
       "    <tr>\n",
       "      <th>79</th>\n",
       "      <td>Total</td>\n",
       "      <td>7069714</td>\n",
       "      <td>6984625</td>\n",
       "      <td>143</td>\n",
       "      <td>14054482</td>\n",
       "    </tr>\n",
       "  </tbody>\n",
       "</table>\n",
       "<p>77 rows × 5 columns</p>\n",
       "</div>"
      ],
      "text/plain": [
       "        District     Male   Female  Third Gender     Total\n",
       "0         Achham    60441    67299             2    127742\n",
       "1   Arghakhanchi    60296    66403             0    126699\n",
       "2        Baglung    73963    82839             0    156802\n",
       "3        Baitadi    60227    64596             1    124824\n",
       "4        Bajhang    47888    49721             1     97610\n",
       "..           ...      ...      ...           ...       ...\n",
       "74       Syangja    89544   101708             1    191253\n",
       "76     Taplejung    37187    33591             0     70778\n",
       "77     Terhathum    30334    30370             0     60704\n",
       "78      Udayapur    88510    86951             0    175461\n",
       "79         Total  7069714  6984625           143  14054482\n",
       "\n",
       "[77 rows x 5 columns]"
      ]
     },
     "execution_count": 32,
     "metadata": {},
     "output_type": "execute_result"
    }
   ],
   "source": [
    "df.drop_duplicates()"
   ]
  },
  {
   "cell_type": "code",
   "execution_count": null,
   "id": "0b92ac52",
   "metadata": {},
   "outputs": [],
   "source": [
    "df.drop()"
   ]
  },
  {
   "cell_type": "code",
   "execution_count": 36,
   "id": "57ea7dae",
   "metadata": {},
   "outputs": [],
   "source": [
    "df.drop(79, inplace = True)"
   ]
  },
  {
   "cell_type": "code",
   "execution_count": 38,
   "id": "23c73c6e",
   "metadata": {},
   "outputs": [
    {
     "name": "stdout",
     "output_type": "stream",
     "text": [
      "District\n",
      "Male\n",
      "Female\n",
      "Third Gender\n",
      "Total\n"
     ]
    }
   ],
   "source": [
    "for i in df"
   ]
  },
  {
   "cell_type": "code",
   "execution_count": null,
   "id": "b7237236",
   "metadata": {},
   "outputs": [],
   "source": []
  },
  {
   "cell_type": "code",
   "execution_count": 33,
   "id": "6dde5c3a",
   "metadata": {},
   "outputs": [
    {
     "name": "stdout",
     "output_type": "stream",
     "text": [
      "['./Datathon Final dataset/state election 2074/गण्डकी प्रदेश/नवलपरासी (बर्दघाट सुस्ता पूर्व)/२/क.csv', './Datathon Final dataset/state election 2074/गण्डकी प्रदेश/नवलपरासी (बर्दघाट सुस्ता पूर्व)/२/ख.csv', './Datathon Final dataset/state election 2074/गण्डकी प्रदेश/नवलपरासी (बर्दघाट सुस्ता पूर्व)/१/क.csv', './Datathon Final dataset/state election 2074/गण्डकी प्रदेश/नवलपरासी (बर्दघाट सुस्ता पूर्व)/१/ख.csv', './Datathon Final dataset/state election 2074/गण्डकी प्रदेश/नवलपरासी (बर्दघाट सुस्ता पूर्व)/.DS_Store', './Datathon Final dataset/state election 2074/गण्डकी प्रदेश/स्याङ्जा/२/क.csv', './Datathon Final dataset/state election 2074/गण्डकी प्रदेश/स्याङ्जा/२/ख.csv', './Datathon Final dataset/state election 2074/गण्डकी प्रदेश/स्याङ्जा/१/क.csv', './Datathon Final dataset/state election 2074/गण्डकी प्रदेश/स्याङ्जा/१/ख.csv', './Datathon Final dataset/state election 2074/गण्डकी प्रदेश/मुस्तांग/१/क.csv', './Datathon Final dataset/state election 2074/गण्डकी प्रदेश/मुस्तांग/१/ख.csv', './Datathon Final dataset/state election 2074/गण्डकी प्रदेश/कास्की/३/क.csv', './Datathon Final dataset/state election 2074/गण्डकी प्रदेश/कास्की/३/ख.csv', './Datathon Final dataset/state election 2074/गण्डकी प्रदेश/कास्की/२/क.csv', './Datathon Final dataset/state election 2074/गण्डकी प्रदेश/कास्की/२/ख.csv', './Datathon Final dataset/state election 2074/गण्डकी प्रदेश/कास्की/१/क.csv', './Datathon Final dataset/state election 2074/गण्डकी प्रदेश/कास्की/१/ख.csv', './Datathon Final dataset/state election 2074/गण्डकी प्रदेश/कास्की/.DS_Store', './Datathon Final dataset/state election 2074/गण्डकी प्रदेश/लमजुंग/१/क.csv', './Datathon Final dataset/state election 2074/गण्डकी प्रदेश/लमजुंग/१/ख.csv', './Datathon Final dataset/state election 2074/गण्डकी प्रदेश/बागलुङ/२/क.csv', './Datathon Final dataset/state election 2074/गण्डकी प्रदेश/बागलुङ/२/ख.csv', './Datathon Final dataset/state election 2074/गण्डकी प्रदेश/बागलुङ/१/क.csv', './Datathon Final dataset/state election 2074/गण्डकी प्रदेश/बागलुङ/१/ख.csv', './Datathon Final dataset/state election 2074/गण्डकी प्रदेश/तनहुँ/२/क.csv', './Datathon Final dataset/state election 2074/गण्डकी प्रदेश/तनहुँ/२/ख.csv', './Datathon Final dataset/state election 2074/गण्डकी प्रदेश/तनहुँ/१/क.csv', './Datathon Final dataset/state election 2074/गण्डकी प्रदेश/तनहुँ/१/ख.csv', './Datathon Final dataset/state election 2074/गण्डकी प्रदेश/पर्वत/१/क.csv', './Datathon Final dataset/state election 2074/गण्डकी प्रदेश/पर्वत/१/ख.csv', './Datathon Final dataset/state election 2074/गण्डकी प्रदेश/म्याग्दी/१/क.csv', './Datathon Final dataset/state election 2074/गण्डकी प्रदेश/म्याग्दी/१/ख.csv', './Datathon Final dataset/state election 2074/गण्डकी प्रदेश/मनाङ्ग/१/क.csv', './Datathon Final dataset/state election 2074/गण्डकी प्रदेश/मनाङ्ग/१/ख.csv', './Datathon Final dataset/state election 2074/गण्डकी प्रदेश/गोरखा/२/क.csv', './Datathon Final dataset/state election 2074/गण्डकी प्रदेश/गोरखा/२/ख.csv', './Datathon Final dataset/state election 2074/गण्डकी प्रदेश/गोरखा/१/क.csv', './Datathon Final dataset/state election 2074/गण्डकी प्रदेश/गोरखा/१/ख.csv', './Datathon Final dataset/state election 2074/गण्डकी प्रदेश/.DS_Store', './Datathon Final dataset/state election 2074/.DS_Store', './Datathon Final dataset/Central election 2074/गण्डकी प्रदेश/नवलपरासी (बर्दघाट सुस्ता पूर्व)/.ipynb_checkpoints/Untitled-checkpoint.ipynb', './Datathon Final dataset/Central election 2074/गण्डकी प्रदेश/नवलपरासी (बर्दघाट सुस्ता पूर्व)/2.csv', './Datathon Final dataset/Central election 2074/गण्डकी प्रदेश/नवलपरासी (बर्दघाट सुस्ता पूर्व)/1.csv', './Datathon Final dataset/Central election 2074/गण्डकी प्रदेश/नवलपरासी (बर्दघाट सुस्ता पूर्व)/.DS_Store', './Datathon Final dataset/Central election 2074/गण्डकी प्रदेश/स्याङ्जा/2.csv', './Datathon Final dataset/Central election 2074/गण्डकी प्रदेश/स्याङ्जा/1.csv', './Datathon Final dataset/Central election 2074/गण्डकी प्रदेश/मुस्तांग/1.csv', './Datathon Final dataset/Central election 2074/गण्डकी प्रदेश/कास्की/2.csv', './Datathon Final dataset/Central election 2074/गण्डकी प्रदेश/कास्की/1.csv', './Datathon Final dataset/Central election 2074/गण्डकी प्रदेश/कास्की/3.csv', './Datathon Final dataset/Central election 2074/गण्डकी प्रदेश/लमजुंग/1.csv', './Datathon Final dataset/Central election 2074/गण्डकी प्रदेश/बागलुङ/2.csv', './Datathon Final dataset/Central election 2074/गण्डकी प्रदेश/बागलुङ/1.csv', './Datathon Final dataset/Central election 2074/गण्डकी प्रदेश/तनहुँ/2.csv', './Datathon Final dataset/Central election 2074/गण्डकी प्रदेश/तनहुँ/1.csv', './Datathon Final dataset/Central election 2074/गण्डकी प्रदेश/पर्वत/1.csv', './Datathon Final dataset/Central election 2074/गण्डकी प्रदेश/म्याग्दी/1.csv', './Datathon Final dataset/Central election 2074/गण्डकी प्रदेश/मनाङ्ग/1.csv', './Datathon Final dataset/Central election 2074/गण्डकी प्रदेश/गोरखा/2.csv', './Datathon Final dataset/Central election 2074/गण्डकी प्रदेश/गोरखा/1.csv', './Datathon Final dataset/Central election 2074/गण्डकी प्रदेश/.DS_Store', './Datathon Final dataset/Central election 2074/.DS_Store', './Datathon Final dataset/.DS_Store', './Datathon Final dataset/Total Male and female voters per districts.csv']\n"
     ]
    }
   ],
   "source": [
    "import os\n",
    "p = []\n",
    "for root, dirs, files in os.walk(\"./Datathon Final dataset\", topdown=False):\n",
    "   for name in files:\n",
    "        if name != '.DS STORE':\n",
    "            p.append(os.path.join(root, name))\n",
    "print(p)"
   ]
  },
  {
   "cell_type": "code",
   "execution_count": 34,
   "id": "54a47587",
   "metadata": {},
   "outputs": [
    {
     "name": "stdout",
     "output_type": "stream",
     "text": [
      "./Datathon Final dataset/state election 2074/गण्डकी प्रदेश/नवलपरासी (बर्दघाट सुस्ता पूर्व)/२/क.csv\n",
      "./Datathon Final dataset/state election 2074/गण्डकी प्रदेश/नवलपरासी (बर्दघाट सुस्ता पूर्व)/२/ख.csv\n",
      "./Datathon Final dataset/state election 2074/गण्डकी प्रदेश/नवलपरासी (बर्दघाट सुस्ता पूर्व)/१/क.csv\n",
      "./Datathon Final dataset/state election 2074/गण्डकी प्रदेश/नवलपरासी (बर्दघाट सुस्ता पूर्व)/१/ख.csv\n",
      "./Datathon Final dataset/state election 2074/गण्डकी प्रदेश/नवलपरासी (बर्दघाट सुस्ता पूर्व)/.DS_Store\n",
      "./Datathon Final dataset/state election 2074/गण्डकी प्रदेश/स्याङ्जा/२/क.csv\n",
      "./Datathon Final dataset/state election 2074/गण्डकी प्रदेश/स्याङ्जा/२/ख.csv\n",
      "./Datathon Final dataset/state election 2074/गण्डकी प्रदेश/स्याङ्जा/१/क.csv\n",
      "./Datathon Final dataset/state election 2074/गण्डकी प्रदेश/स्याङ्जा/१/ख.csv\n",
      "./Datathon Final dataset/state election 2074/गण्डकी प्रदेश/मुस्तांग/१/क.csv\n",
      "./Datathon Final dataset/state election 2074/गण्डकी प्रदेश/मुस्तांग/१/ख.csv\n",
      "./Datathon Final dataset/state election 2074/गण्डकी प्रदेश/कास्की/३/क.csv\n",
      "./Datathon Final dataset/state election 2074/गण्डकी प्रदेश/कास्की/३/ख.csv\n",
      "./Datathon Final dataset/state election 2074/गण्डकी प्रदेश/कास्की/२/क.csv\n",
      "./Datathon Final dataset/state election 2074/गण्डकी प्रदेश/कास्की/२/ख.csv\n",
      "./Datathon Final dataset/state election 2074/गण्डकी प्रदेश/कास्की/१/क.csv\n",
      "./Datathon Final dataset/state election 2074/गण्डकी प्रदेश/कास्की/१/ख.csv\n",
      "./Datathon Final dataset/state election 2074/गण्डकी प्रदेश/कास्की/.DS_Store\n",
      "./Datathon Final dataset/state election 2074/गण्डकी प्रदेश/लमजुंग/१/क.csv\n",
      "./Datathon Final dataset/state election 2074/गण्डकी प्रदेश/लमजुंग/१/ख.csv\n",
      "./Datathon Final dataset/state election 2074/गण्डकी प्रदेश/बागलुङ/२/क.csv\n",
      "./Datathon Final dataset/state election 2074/गण्डकी प्रदेश/बागलुङ/२/ख.csv\n",
      "./Datathon Final dataset/state election 2074/गण्डकी प्रदेश/बागलुङ/१/क.csv\n",
      "./Datathon Final dataset/state election 2074/गण्डकी प्रदेश/बागलुङ/१/ख.csv\n",
      "./Datathon Final dataset/state election 2074/गण्डकी प्रदेश/तनहुँ/२/क.csv\n",
      "./Datathon Final dataset/state election 2074/गण्डकी प्रदेश/तनहुँ/२/ख.csv\n",
      "./Datathon Final dataset/state election 2074/गण्डकी प्रदेश/तनहुँ/१/क.csv\n",
      "./Datathon Final dataset/state election 2074/गण्डकी प्रदेश/तनहुँ/१/ख.csv\n",
      "./Datathon Final dataset/state election 2074/गण्डकी प्रदेश/पर्वत/१/क.csv\n",
      "./Datathon Final dataset/state election 2074/गण्डकी प्रदेश/पर्वत/१/ख.csv\n",
      "./Datathon Final dataset/state election 2074/गण्डकी प्रदेश/म्याग्दी/१/क.csv\n",
      "./Datathon Final dataset/state election 2074/गण्डकी प्रदेश/म्याग्दी/१/ख.csv\n",
      "./Datathon Final dataset/state election 2074/गण्डकी प्रदेश/मनाङ्ग/१/क.csv\n",
      "./Datathon Final dataset/state election 2074/गण्डकी प्रदेश/मनाङ्ग/१/ख.csv\n",
      "./Datathon Final dataset/state election 2074/गण्डकी प्रदेश/गोरखा/२/क.csv\n",
      "./Datathon Final dataset/state election 2074/गण्डकी प्रदेश/गोरखा/२/ख.csv\n",
      "./Datathon Final dataset/state election 2074/गण्डकी प्रदेश/गोरखा/१/क.csv\n",
      "./Datathon Final dataset/state election 2074/गण्डकी प्रदेश/गोरखा/१/ख.csv\n",
      "./Datathon Final dataset/state election 2074/गण्डकी प्रदेश/.DS_Store\n",
      "./Datathon Final dataset/state election 2074/.DS_Store\n",
      "./Datathon Final dataset/Central election 2074/गण्डकी प्रदेश/नवलपरासी (बर्दघाट सुस्ता पूर्व)/.ipynb_checkpoints/Untitled-checkpoint.ipynb\n",
      "./Datathon Final dataset/Central election 2074/गण्डकी प्रदेश/नवलपरासी (बर्दघाट सुस्ता पूर्व)/2.csv\n",
      "./Datathon Final dataset/Central election 2074/गण्डकी प्रदेश/नवलपरासी (बर्दघाट सुस्ता पूर्व)/1.csv\n",
      "./Datathon Final dataset/Central election 2074/गण्डकी प्रदेश/नवलपरासी (बर्दघाट सुस्ता पूर्व)/.DS_Store\n",
      "./Datathon Final dataset/Central election 2074/गण्डकी प्रदेश/स्याङ्जा/2.csv\n",
      "./Datathon Final dataset/Central election 2074/गण्डकी प्रदेश/स्याङ्जा/1.csv\n",
      "./Datathon Final dataset/Central election 2074/गण्डकी प्रदेश/मुस्तांग/1.csv\n",
      "./Datathon Final dataset/Central election 2074/गण्डकी प्रदेश/कास्की/2.csv\n",
      "./Datathon Final dataset/Central election 2074/गण्डकी प्रदेश/कास्की/1.csv\n",
      "./Datathon Final dataset/Central election 2074/गण्डकी प्रदेश/कास्की/3.csv\n",
      "./Datathon Final dataset/Central election 2074/गण्डकी प्रदेश/लमजुंग/1.csv\n",
      "./Datathon Final dataset/Central election 2074/गण्डकी प्रदेश/बागलुङ/2.csv\n",
      "./Datathon Final dataset/Central election 2074/गण्डकी प्रदेश/बागलुङ/1.csv\n",
      "./Datathon Final dataset/Central election 2074/गण्डकी प्रदेश/तनहुँ/2.csv\n",
      "./Datathon Final dataset/Central election 2074/गण्डकी प्रदेश/तनहुँ/1.csv\n",
      "./Datathon Final dataset/Central election 2074/गण्डकी प्रदेश/पर्वत/1.csv\n",
      "./Datathon Final dataset/Central election 2074/गण्डकी प्रदेश/म्याग्दी/1.csv\n",
      "./Datathon Final dataset/Central election 2074/गण्डकी प्रदेश/मनाङ्ग/1.csv\n",
      "./Datathon Final dataset/Central election 2074/गण्डकी प्रदेश/गोरखा/2.csv\n",
      "./Datathon Final dataset/Central election 2074/गण्डकी प्रदेश/गोरखा/1.csv\n",
      "./Datathon Final dataset/Central election 2074/गण्डकी प्रदेश/.DS_Store\n",
      "./Datathon Final dataset/Central election 2074/.DS_Store\n",
      "./Datathon Final dataset/.DS_Store\n",
      "./Datathon Final dataset/Total Male and female voters per districts.csv\n"
     ]
    }
   ],
   "source": [
    "for i in p:\n",
    "    print(i)"
   ]
  },
  {
   "cell_type": "code",
   "execution_count": null,
   "id": "3b32f526",
   "metadata": {},
   "outputs": [],
   "source": []
  }
 ],
 "metadata": {
  "kernelspec": {
   "display_name": "Python 3",
   "language": "python",
   "name": "python3"
  },
  "language_info": {
   "codemirror_mode": {
    "name": "ipython",
    "version": 3
   },
   "file_extension": ".py",
   "mimetype": "text/x-python",
   "name": "python",
   "nbconvert_exporter": "python",
   "pygments_lexer": "ipython3",
   "version": "3.9.12"
  }
 },
 "nbformat": 4,
 "nbformat_minor": 5
}
